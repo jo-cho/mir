{
 "cells": [
  {
   "cell_type": "markdown",
   "id": "9ffc1267-5d7f-4b19-8670-53bd133a1dce",
   "metadata": {},
   "source": [
    "**음악의 표현 방법**"
   ]
  },
  {
   "cell_type": "code",
   "execution_count": 1,
   "id": "152f22cc-b60f-473d-8a39-41fce34865d1",
   "metadata": {},
   "outputs": [],
   "source": [
    "import IPython.display as ipd\n",
    "from IPython.display import Image"
   ]
  },
  {
   "cell_type": "markdown",
   "id": "f246c868-96c8-4b5d-b9f8-ed15758b849d",
   "metadata": {
    "tags": []
   },
   "source": [
    "# 3. 오디오 표현"
   ]
  },
  {
   "cell_type": "markdown",
   "id": "508033c0-9437-4e1c-84db-54b77f23f87c",
   "metadata": {},
   "source": [
    "In performance, musicians convert sheet music representations into sound which is transmitted through the air as air pressure oscillations. In essence, sound is simply air vibrating (Wikipedia). Sound vibrates through the air as longitudinal waves, i.e. the oscillations are parallel to the direction of propagation.\n",
    "\n",
    "Audio refers to the production, transmission, or reception of sounds that are audible by humans. An audio signal is a representation of sound that represents the fluctuation in air pressure caused by the vibration as a function of time. Unlike sheet music or symbolic representations, audio representations encode everything that is necessary to reproduce an acoustic realization of a piece of music. However, note parameters such as onsets, durations, and pitches are not encoded explicitly. This makes converting from an audio representation to a symbolic representation a difficult and ill-defined task."
   ]
  },
  {
   "cell_type": "code",
   "execution_count": null,
   "id": "b8364d2a-1428-4be9-9c05-d007821ae642",
   "metadata": {},
   "outputs": [],
   "source": []
  }
 ],
 "metadata": {
  "kernelspec": {
   "display_name": "Python 3 (ipykernel)",
   "language": "python",
   "name": "python3"
  },
  "language_info": {
   "codemirror_mode": {
    "name": "ipython",
    "version": 3
   },
   "file_extension": ".py",
   "mimetype": "text/x-python",
   "name": "python",
   "nbconvert_exporter": "python",
   "pygments_lexer": "ipython3",
   "version": "3.9.15"
  }
 },
 "nbformat": 4,
 "nbformat_minor": 5
}
