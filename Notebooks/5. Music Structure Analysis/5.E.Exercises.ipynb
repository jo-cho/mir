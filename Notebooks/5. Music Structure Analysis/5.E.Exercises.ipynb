{
 "cells": [
  {
   "cell_type": "markdown",
   "id": "c720e7b1",
   "metadata": {},
   "source": [
    "Exercises"
   ]
  },
  {
   "cell_type": "code",
   "execution_count": 3,
   "id": "e8c7b42a",
   "metadata": {
    "ExecuteTime": {
     "end_time": "2023-01-06T08:13:35.665387Z",
     "start_time": "2023-01-06T08:13:35.239435Z"
    }
   },
   "outputs": [],
   "source": [
    "import numpy as np"
   ]
  },
  {
   "cell_type": "markdown",
   "id": "4c7f31e1",
   "metadata": {},
   "source": [
    "# 4.5."
   ]
  },
  {
   "cell_type": "code",
   "execution_count": 4,
   "id": "f41fdf19",
   "metadata": {
    "ExecuteTime": {
     "end_time": "2023-01-06T08:13:35.825461Z",
     "start_time": "2023-01-06T08:13:35.808341Z"
    }
   },
   "outputs": [],
   "source": [
    "def threshold_matrix(S, thresh, strategy='absolute', scale=False, penalty=0.0, binarize=False):\n",
    "    \"\"\"Treshold matrix in a relative fashion\n",
    "\n",
    "    Notebook: C4/C4S2_SSM-Thresholding.ipynb\n",
    "\n",
    "    Args:\n",
    "        S (np.ndarray): Input matrix\n",
    "        thresh (float or list): Treshold (meaning depends on strategy)\n",
    "        strategy (str): Thresholding strategy ('absolute', 'relative', 'local') (Default value = 'absolute')\n",
    "        scale (bool): If scale=True, then scaling of positive values to range [0,1] (Default value = False)\n",
    "        penalty (float): Set values below treshold to value specified (Default value = 0.0)\n",
    "        binarize (bool): Binarizes final matrix (positive: 1; otherwise: 0) (Default value = False)\n",
    "\n",
    "    Returns:\n",
    "        S_thresh (np.ndarray): Thresholded matrix\n",
    "    \"\"\"\n",
    "    if np.min(S) < 0:\n",
    "        raise Exception('All entries of the input matrix must be nonnegative')\n",
    "\n",
    "    S_thresh = np.copy(S)\n",
    "    N, M = S.shape\n",
    "    num_cells = N * M\n",
    "\n",
    "    if strategy == 'absolute':\n",
    "        thresh_abs = thresh\n",
    "        S_thresh[S_thresh < thresh] = 0\n",
    "\n",
    "    if strategy == 'relative':\n",
    "        thresh_rel = thresh\n",
    "        num_cells_below_thresh = int(np.round(S_thresh.size*(1-thresh_rel)))\n",
    "        if num_cells_below_thresh < num_cells:\n",
    "            values_sorted = np.sort(S_thresh.flatten('F'))\n",
    "            thresh_abs = values_sorted[num_cells_below_thresh]\n",
    "            S_thresh[S_thresh < thresh_abs] = 0\n",
    "        else:\n",
    "            S_thresh = np.zeros([N, M])\n",
    "\n",
    "    if strategy == 'local':\n",
    "        thresh_rel_row = thresh[0]\n",
    "        thresh_rel_col = thresh[1]\n",
    "        S_binary_row = np.zeros([N, M])\n",
    "        num_cells_row_below_thresh = int(np.round(M * (1-thresh_rel_row)))\n",
    "        for n in range(N):\n",
    "            row = S[n, :]\n",
    "            values_sorted = np.sort(row)\n",
    "            if num_cells_row_below_thresh < M:\n",
    "                thresh_abs = values_sorted[num_cells_row_below_thresh]\n",
    "                S_binary_row[n, :] = (row >= thresh_abs)\n",
    "        S_binary_col = np.zeros([N, M])\n",
    "        num_cells_col_below_thresh = int(np.round(N * (1-thresh_rel_col)))\n",
    "        for m in range(M):\n",
    "            col = S[:, m]\n",
    "            values_sorted = np.sort(col)\n",
    "            if num_cells_col_below_thresh < N:\n",
    "                thresh_abs = values_sorted[num_cells_col_below_thresh]\n",
    "                S_binary_col[:, m] = (col >= thresh_abs)\n",
    "        S_thresh = S * S_binary_row * S_binary_col\n",
    "\n",
    "    if scale:\n",
    "        cell_val_zero = np.where(S_thresh == 0)\n",
    "        cell_val_pos = np.where(S_thresh > 0)\n",
    "        if len(cell_val_pos[0]) == 0:\n",
    "            min_value = 0\n",
    "        else:\n",
    "            min_value = np.min(S_thresh[cell_val_pos])\n",
    "        max_value = np.max(S_thresh)\n",
    "        # print('min_value = ', min_value, ', max_value = ', max_value)\n",
    "        if max_value > min_value:\n",
    "            S_thresh = np.divide((S_thresh - min_value), (max_value - min_value))\n",
    "            if len(cell_val_zero[0]) > 0:\n",
    "                S_thresh[cell_val_zero] = penalty\n",
    "        else:\n",
    "            print('Condition max_value > min_value is voliated: output zero matrix')\n",
    "\n",
    "    if binarize:\n",
    "        S_thresh[S_thresh > 0] = 1\n",
    "        S_thresh[S_thresh < 0] = 0\n",
    "    return S_thresh"
   ]
  },
  {
   "cell_type": "code",
   "execution_count": 5,
   "id": "4a9b8961",
   "metadata": {
    "ExecuteTime": {
     "end_time": "2023-01-06T08:13:36.489021Z",
     "start_time": "2023-01-06T08:13:36.480069Z"
    }
   },
   "outputs": [
    {
     "name": "stdout",
     "output_type": "stream",
     "text": [
      "Matrix S of dimension N=4 and M=4:\n",
      "[[1 1 2 2]\n",
      " [4 3 4 3]\n",
      " [1 1 2 2]\n",
      " [5 6 6 5]]\n"
     ]
    }
   ],
   "source": [
    "S = np.array([[1,1,2,2], [4,3,4,3], [1,1,2,2], [5,6,6,5]])\n",
    "N, M = S.shape\n",
    "print('Matrix S of dimension N=%d and M=%d:'%(N,M))\n",
    "print(S)"
   ]
  },
  {
   "cell_type": "code",
   "execution_count": 7,
   "id": "9a8b9953",
   "metadata": {
    "ExecuteTime": {
     "end_time": "2023-01-06T08:14:21.600325Z",
     "start_time": "2023-01-06T08:14:21.584268Z"
    }
   },
   "outputs": [
    {
     "name": "stdout",
     "output_type": "stream",
     "text": [
      "[[0 0 0 0]\n",
      " [4 0 4 0]\n",
      " [0 0 0 0]\n",
      " [5 6 6 5]]\n"
     ]
    }
   ],
   "source": [
    "# (a) Global thresholding using  𝜏=4 :\n",
    "strategy = 'absolute'\n",
    "thresh = 4\n",
    "S_thresh = threshold_matrix(S, thresh=thresh, strategy=strategy, scale=0, penalty=0, binarize=0)\n",
    "print(S_thresh)"
   ]
  },
  {
   "cell_type": "code",
   "execution_count": 8,
   "id": "8243c1f3",
   "metadata": {
    "ExecuteTime": {
     "end_time": "2023-01-06T08:14:21.982030Z",
     "start_time": "2023-01-06T08:14:21.976047Z"
    }
   },
   "outputs": [
    {
     "name": "stdout",
     "output_type": "stream",
     "text": [
      "[[0.  0.  0.  0. ]\n",
      " [0.  0.  0.  0. ]\n",
      " [0.  0.  0.  0. ]\n",
      " [0.5 1.  1.  0.5]]\n"
     ]
    }
   ],
   "source": [
    "# (b) Global thresholding using  𝜏=4  as in (a) with subsequent linear scaling of the range  [𝜏,𝜇]  to  [0,1]  using  𝜇:=max{𝐒(𝑛,𝑚)∣𝑛,𝑚∈[1:4]} :\n",
    "strategy = 'absolute'\n",
    "thresh = 4\n",
    "S_thresh = threshold_matrix(S, thresh=thresh, strategy=strategy, scale=1, penalty=0, binarize=0)\n",
    "print(S_thresh)"
   ]
  },
  {
   "cell_type": "code",
   "execution_count": 9,
   "id": "e73e42c6",
   "metadata": {
    "ExecuteTime": {
     "end_time": "2023-01-06T08:14:40.978470Z",
     "start_time": "2023-01-06T08:14:40.968472Z"
    }
   },
   "outputs": [
    {
     "name": "stdout",
     "output_type": "stream",
     "text": [
      "[[-1.  -1.  -1.  -1. ]\n",
      " [ 0.  -1.   0.  -1. ]\n",
      " [-1.  -1.  -1.  -1. ]\n",
      " [ 0.5  1.   1.   0.5]]\n"
     ]
    }
   ],
   "source": [
    "# (𝐜)  Global thresholding with subsequent linear scaling as in (b) and applying the penalty parameter  𝛿=−1 :\n",
    "strategy = 'absolute'\n",
    "thresh = 4\n",
    "S_thresh = threshold_matrix(S, thresh=thresh, strategy=strategy, scale=1, penalty=-1, binarize=0)\n",
    "print(S_thresh)"
   ]
  },
  {
   "cell_type": "code",
   "execution_count": 10,
   "id": "2fbe3bd0",
   "metadata": {
    "ExecuteTime": {
     "end_time": "2023-01-06T08:14:52.820291Z",
     "start_time": "2023-01-06T08:14:52.800344Z"
    }
   },
   "outputs": [
    {
     "name": "stdout",
     "output_type": "stream",
     "text": [
      "[[0 0 0 0]\n",
      " [4 3 4 3]\n",
      " [0 0 0 0]\n",
      " [5 6 6 5]]\n"
     ]
    }
   ],
   "source": [
    "# (𝐝)  Relative thresholding using the relative threshold parameter  𝜌=0.5 :\n",
    "strategy = 'relative'\n",
    "thresh = 0.5\n",
    "S_thresh = threshold_matrix(S, thresh=thresh, strategy=strategy, scale=0, penalty=0, binarize=0)\n",
    "print(S_thresh)"
   ]
  },
  {
   "cell_type": "code",
   "execution_count": 11,
   "id": "cdb1b206",
   "metadata": {
    "ExecuteTime": {
     "end_time": "2023-01-06T08:15:02.348572Z",
     "start_time": "2023-01-06T08:15:02.333005Z"
    }
   },
   "outputs": [
    {
     "name": "stdout",
     "output_type": "stream",
     "text": [
      "[[0. 0. 0. 0.]\n",
      " [4. 0. 4. 0.]\n",
      " [0. 0. 0. 0.]\n",
      " [0. 6. 6. 0.]]\n"
     ]
    }
   ],
   "source": [
    "# (𝐞)  Local thresholding in a column- and rowwise fashion using  𝜌=0.5\n",
    "strategy = 'local'\n",
    "thresh = [0.5, 0.5]\n",
    "S_thresh = threshold_matrix(S, thresh=thresh, strategy=strategy, scale=0, penalty=0, binarize=0)\n",
    "print(S_thresh)"
   ]
  },
  {
   "cell_type": "code",
   "execution_count": null,
   "id": "b1644511",
   "metadata": {},
   "outputs": [],
   "source": [
    "출처: "
   ]
  }
 ],
 "metadata": {
  "kernelspec": {
   "display_name": "Python 3 (ipykernel)",
   "language": "python",
   "name": "python3"
  },
  "language_info": {
   "codemirror_mode": {
    "name": "ipython",
    "version": 3
   },
   "file_extension": ".py",
   "mimetype": "text/x-python",
   "name": "python",
   "nbconvert_exporter": "python",
   "pygments_lexer": "ipython3",
   "version": "3.8.15"
  },
  "toc": {
   "base_numbering": 1,
   "nav_menu": {},
   "number_sections": true,
   "sideBar": true,
   "skip_h1_title": false,
   "title_cell": "Table of Contents",
   "title_sidebar": "Contents",
   "toc_cell": false,
   "toc_position": {},
   "toc_section_display": true,
   "toc_window_display": false
  }
 },
 "nbformat": 4,
 "nbformat_minor": 5
}
