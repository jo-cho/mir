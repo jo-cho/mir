{
 "cells": [
  {
   "cell_type": "code",
   "execution_count": null,
   "id": "e1645a8b",
   "metadata": {},
   "outputs": [],
   "source": []
  },
  {
   "cell_type": "markdown",
   "id": "81621424",
   "metadata": {},
   "source": [
    "# 음악정보검색 선행연구 - 음악 소스 분리\n",
    "\n",
    "MIR Literatures - Music Source Separation\n",
    "\n",
    ">이론보다는 실증 연구를 바탕으로 선행연구들을 직접 조사하였다. 언어음(speech) 보다는 음악이 포함된 소스 분리 위주의 연구로 조사하였다. 논문은 연도 순으로 정리되어 있으며, 연구에서 쓰이는 데이터, 피쳐, 모형, 성과지표를 함께 게재하였다. 각각 항목에 따라 주로 사용되는 것과 시간에 따른 추세를 확인할 수 있다.\n",
    "\n",
    "논문 제목을 클릭하면 해당 논문의 DOI 주소로 이동한다.\n",
    "\n",
    "\n",
    "*새롭게 찾은 연구는 수시로 추가할 예정이다. 현재 2020년까지 업데이트 됐다.*"
   ]
  },
  {
   "cell_type": "markdown",
   "id": "90c989ed",
   "metadata": {},
   "source": [
    "## 선행연구 조사"
   ]
  },
  {
   "cell_type": "markdown",
   "id": "44d86c6e",
   "metadata": {},
   "source": [
    "|논문|데이터|피쳐/인풋|모형|성과지표|\n",
    "|--:|:--:|:--:|:--:|:--:|\n",
    "|[M. Spiertz and V. Gnann (2009)](https://www.ient.rwth-aachen.de/cms/dafx09/)|EBU speech, [Instruments Data](https://link.springer.com/book/10.1007/978-0-387-21603-4)|Magnitude Spectrogram|MFCC K-means, NMF|SAR, SDR, SIR, SER|\n",
    "|[G. Mysore, P. Smaragdis, and B. Raj (2010)](https://link.springer.com/chapter/10.1007/978-3-642-15995-4_18)|[TIMIT speech](https://catalog.ldc.upenn.edu/LDC93s1)|Magnitude Spectrogram|Non-negative Factorial HMM|SAR, SDR, SIR|\n",
    "|[R. Jaiswal, *et, al.* (2011)](https://ieeexplore.ieee.org/abstract/document/5946386)|[Orchestral Instruments](https://www.worldcat.org/ko/title/peter-siedlaczeks-advanced-orchestra-upgrade-97/oclc/43566640)|Magnitude Spectrogram|Shifted-NMF|SAR, SDR, SIR|\n",
    "|[E. Grais, M.U. Sen, and H. Erdogan (2014)](https://ieeexplore.ieee.org/abstract/document/6854299)|[TIMIT speech](https://catalog.ldc.upenn.edu/LDC93s1), Piano data|Magnitude Spectrogram|DNN, Energy Minimization|SNR, SDR, SIR|\n",
    "|[S. Uhlich, F. Giron, and Y. Mitsufuji (2015)](https://ieeexplore.ieee.org/abstract/document/7178348)|[TRIOS](https://zenodo.org/record/6797837#.Y_h6ZnZByUk) (\"Brahms\",\"Lussier\")|Magnitude Spectrogram|DNN|SAR, SDR, SIR|\n",
    "|[A.A. Nugraha, A. Liutkus, and E. Vincent (2016)](https://ieeexplore.ieee.org/abstract/document/7760548)|SISEC 2015 dataset|Magnitude Spectrogram|DNN + Wiener filter|SAR, SDR, SIR, ISR|\n",
    "|[P. Chandna, *et al.* (2017)](https://link.springer.com/chapter/10.1007/978-3-319-53547-0_25)|[DSD100](https://sigsep.github.io/datasets/dsd100.html)|Magnitude Spectrogram|CNN|SAR, SDR, SIR, ISR|\n",
    "|[Y. Luo, *et al.* (2017)](https://ieeexplore.ieee.org/abstract/document/7952118)|[DSD100-remix](https://sigsep.github.io/datasets/dsd100.html), iKala|Magnitude Spectrogram|Chimera(Deep clustering, Bi-LSTM)|SDR|\n",
    "|[S. Uhlich, *et al.* (2017)](https://ieeexplore.ieee.org/abstract/document/7952158)|[DSD100](https://sigsep.github.io/datasets/dsd100.html)|Magnitude Spectrogram|BLEND(FNN(feed-forward) + Bi-LSTM)|SDR|\n",
    "|[N. Takahashi and Y. Mitsufuji (2017)](https://ieeexplore.ieee.org/abstract/document/8169987)|[DSD100](https://sigsep.github.io/datasets/dsd100.html)|Magnitude Spectrogram|MM(Multiscale Multiband) DenseNet|SDR|\n",
    "|[A. Jansson, *et al.* (2017)](https://openaccess.city.ac.uk/id/eprint/19289/)|Train: Large (original, instrumental) songs \\ Test:iKala, MedleyDB|Magnitude Spectrogram|U-Net|SAR, NSDR, SIR|\n",
    "|[D. Stoller, S. Ewert, and S. Dixon (2018)](https://arxiv.org/abs/1806.03185)|[MUSDB18](https://sigsep.github.io/datasets/musdb.html)|Waveform domain|Wave-U-Net|SDR statistics|\n",
    "|[J.Y. Liu and Y.H. Yang (2018)](https://ieeexplore.ieee.org/abstract/document/8614148)|[MUSDB18](https://sigsep.github.io/datasets/musdb.html), [DSD100](https://sigsep.github.io/datasets/dsd100.html)|Magnitude Spectrogram|ARC(Auto-encoder with Recurrent skip Connections)|SDR|\n",
    "|[N. Takahashi, N. Goswami, and Y. Mitsufuji (2018)](https://ieeexplore.ieee.org/abstract/document/8521383)|[MUSDB18](https://sigsep.github.io/datasets/musdb.html), [DSD100](https://sigsep.github.io/datasets/dsd100.html)|Spectrogram magnitude|*MMDenseLSTM*|SDR|\n",
    "|[F. Lluís, J. Pons, and X. Serra (2018)](https://arxiv.org/abs/1810.12187)|[MUSDB18](https://sigsep.github.io/datasets/musdb.html)|Waveform domain|Wave-U-Net|SAR, SDR, SIR|\n",
    "|[F. Stöter, S. Uhlich, A. Liutkus, and Y. Mitsufuji (2019)](https://hal.inria.fr/hal-02293689/)|[MUSDB18](https://sigsep.github.io/datasets/musdb.html), MUSDB18-HQ|Magnitude Spectrogram|*Open-Unmix* (based on [S. Uhlich, *et al.* (2017)](https://ieeexplore.ieee.org/abstract/document/7952158))|SDR|\n",
    "|[L. Prétet, *et al.* (2019)](https://ieeexplore.ieee.org/abstract/document/8683555)|*Bean* + [MUSDB18](https://sigsep.github.io/datasets/musdb.html)|Magnitude Spectrogram|U-Net|SAR, SDR, SIR|\n",
    "|[Y. Luo and N. Mesgarani (2019)](https://ieeexplore.ieee.org/abstract/document/8707065)|WSJ0-2MIX (speech)|Waveform domain|Conv-TasNet|SI-SNR, SDR|\n",
    "|[A. Défossez, *et al.*(2019)](https://arxiv.org/abs/1911.13254)|[MUSDB18](https://sigsep.github.io/datasets/musdb.html)|Waveform domain|*Demucs*|SDR|\n",
    "|[R. Hennequin, *et al.* (2020)](https://joss.theoj.org/papers/10.21105/joss.02154)|Train: *Bean* + Extra \\ Test: [MUSDB18](https://sigsep.github.io/datasets/musdb.html)|Magnitude Spectrogram|*Spleeter* (based on [L. Prétet, *et al.* (2019)](https://ieeexplore.ieee.org/abstract/document/8683555))|SAR, SDR, SIR, ISR|\n",
    "|[E. Nachmani, Y. Adi, and L. Wolf (2020)](http://proceedings.mlr.press/v119/nachmani20a.html)|[MUSDB18](https://sigsep.github.io/datasets/musdb.html), WSJ0-2MIX (speech)|Magnitude Spectrogram|DP(Dual-Path)RNN|SDR|\n",
    "|[D. Samuel and A. Ganeshan (2020)](https://ieeexplore.ieee.org/abstract/document/9053513)|[MUSDB18](https://sigsep.github.io/datasets/musdb.html)|Waveform domain, Magnitude Spectrogram|*Meta-TasNet* (meta-learning of ConvTasNet)|SI-SNR, SDR|\n",
    "|[N. Takahashi and Y. Mitsufuji (2020)](https://arxiv.org/abs/2010.01733)|[MUSDB18](https://sigsep.github.io/datasets/musdb.html)|Magnitude Spectrogram|*D3Net* (multidilated convolution)|SDR|\n",
    "|[E. Lancaster, and N. Souviraà-Labastie (2020)](https://hal.science/hal-02986241/)|[MUSDB18](https://sigsep.github.io/datasets/musdb.html)+ Extra 30|Waveform domain|TasNet|SI-SNR, SDR|"
   ]
  },
  {
   "cell_type": "markdown",
   "id": "b60c8e8d",
   "metadata": {},
   "source": [
    "## 추가 설명"
   ]
  },
  {
   "cell_type": "markdown",
   "id": "0b10e1c8",
   "metadata": {},
   "source": [
    "- 피쳐, 전처리, 후처리 등 설명\n",
    "    - Magnitude Spectrogram: STFT로 계산 후 mel-filterbank, masking 등 작업\n",
    "    - Wiener filtering: *MMDenseLSTM, D3Net, Spleeter, Open Unmix, Demucs* 등의 모형에서 마지막 후처리 작업으로 **Multi-Channel Wiener filtering**을 사용했다. ([A.A. Nugraha, A. Liutkus, and E. Vincent (2016)](https://ieeexplore.ieee.org/abstract/document/7760548) 이후)\n",
    "    - Data Augmentation: 작은 데이터세트를 다룰 때는 Spectrogram의 **Data Augmentation**로 input을 강화했다. ([S. Uhlich, *et al.* (2017)](https://ieeexplore.ieee.org/abstract/document/7952158) 이후)\n",
    "\n",
    "\n",
    "- 모형 세부 설명\n",
    "    - DenseNet\n",
    "    - UNet:\n",
    "    - *Open-Unmix* \n",
    "    - *Spleeter*\n",
    "    - *TasNet*: \"Time-domain Audio Separation NETwork\"\n",
    "    - *Demucs*: \"encoder/decoder\" 구조로 convolutional encoder, bidirectional LSTM, convolutional decoder로 구성되며 encoder와 decoder는  skip U-Net connections으로 연결\n",
    "\n",
    "\n",
    "- 주요 데이터 설명\n",
    "    - MUSDB18: 여러 장르가 섞인 음악 데이터 세트. 각 트랙은 보컬, 드럼, 베이스, 기타로 분류되어 주석이 달림.\n",
    " \n",
    "++ 추가로 논문 저자들을 보면 어느 회사의 연구원들을 위주로 모형을 발달시켜가는 경우를 볼 수 있다. 유명한 오픈소스 모형인 *Open-Unet*의 경우 Sony, *Demucs*는 Facebook, *Spleeter*는 Deezer의 연구원들이 참여하였다."
   ]
  },
  {
   "cell_type": "markdown",
   "id": "b8857ab9",
   "metadata": {},
   "source": [
    "# 참고문헌\n",
    "\n"
   ]
  },
  {
   "cell_type": "markdown",
   "id": "62f82f6c",
   "metadata": {},
   "source": [
    "- S. Uhlich et al., \"Improving music source separation based on deep neural networks through data augmentation and network blending,\" 2017 IEEE International Conference on Acoustics, Speech and Signal Processing (ICASSP), New Orleans, LA, USA, 2017, pp. 261-265, doi: 10.1109/ICASSP.2017.7952158."
   ]
  },
  {
   "cell_type": "code",
   "execution_count": null,
   "id": "c8693a20",
   "metadata": {},
   "outputs": [],
   "source": []
  }
 ],
 "metadata": {
  "kernelspec": {
   "display_name": "Python 3 (ipykernel)",
   "language": "python",
   "name": "python3"
  },
  "language_info": {
   "codemirror_mode": {
    "name": "ipython",
    "version": 3
   },
   "file_extension": ".py",
   "mimetype": "text/x-python",
   "name": "python",
   "nbconvert_exporter": "python",
   "pygments_lexer": "ipython3",
   "version": "3.9.15"
  },
  "toc": {
   "base_numbering": 1,
   "nav_menu": {},
   "number_sections": true,
   "sideBar": true,
   "skip_h1_title": false,
   "title_cell": "Table of Contents",
   "title_sidebar": "Contents",
   "toc_cell": false,
   "toc_position": {},
   "toc_section_display": true,
   "toc_window_display": false
  }
 },
 "nbformat": 4,
 "nbformat_minor": 5
}
